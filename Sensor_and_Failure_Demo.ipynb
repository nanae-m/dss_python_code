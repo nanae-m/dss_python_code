{
  "metadata": {
    "kernelspec": {
      "name": "python3",
      "display_name": "Python 3",
      "language": "python"
    },
    "creator": "nanae",
    "createdOn": 1627385716998,
    "tags": [
      "recipe-editor"
    ],
    "customFields": {},
    "hide_input": false,
    "language_info": {
      "name": "python",
      "version": "3.6.8",
      "mimetype": "text/x-python",
      "codemirror_mode": {
        "name": "ipython",
        "version": 3
      },
      "pygments_lexer": "ipython3",
      "nbconvert_exporter": "python",
      "file_extension": ".py"
    },
    "modifiedBy": "nanae",
    "dkuGit": {
      "gitReference": {
        "remote": "https://github.com/nanae-m/dss_python_code",
        "checkout": "refs/heads/main",
        "remotePath": "Sensor_and_Failure.ipynb",
        "lastHash": "3bd8ba47bc13dd8b71f3cdb52a1658028dd8d8f6",
        "lastTimestamp": 1627386845000
      },
      "lastInteraction": 1627388393253
    }
  },
  "nbformat": 4,
  "nbformat_minor": 1,
  "cells": [
    {
      "execution_count": 0,
      "cell_type": "code",
      "metadata": {},
      "source": [
        "# -*- coding: utf-8 -*-\nimport dataiku\nimport pandas as pd, numpy as np\nfrom dataiku import pandasutils as pdu"
      ],
      "outputs": []
    },
    {
      "execution_count": 0,
      "cell_type": "code",
      "metadata": {},
      "source": [
        "# Declare input and output objects\ndku_input \u003d dataiku.Dataset(\"histo_FD001_RUL_prepared_movingavg\")\ndku_output \u003d dataiku.Dataset(\"histo_FD001_RUL_features\")"
      ],
      "outputs": []
    },
    {
      "execution_count": 0,
      "cell_type": "code",
      "metadata": {},
      "source": [
        "df_input \u003d dku_input.get_dataframe()\ndf_output \u003d df_input"
      ],
      "outputs": []
    },
    {
      "execution_count": 0,
      "cell_type": "code",
      "metadata": {},
      "source": [
        "def calc_ratio(a,b):\n    if a \u003d\u003d 0:\n        return np.nan\n    else:\n        return (b - a)/a"
      ],
      "outputs": []
    },
    {
      "execution_count": 0,
      "cell_type": "code",
      "metadata": {},
      "source": [
        "for i in range(1,4):\n    current_setting \u003d \"setting_\" + str(i)\n    current_max_setting \u003d \"pct_to_max_\" + current_setting\n    current_min_setting \u003d \"pct_to_min_\" + current_setting\n    current_full_max \u003d \"w_full_history_\" + current_setting + \"_max\"\n    current_full_min \u003d \"w_full_history_\" + current_setting + \"_min\"\n\n    df_output[current_max_setting] \u003d df_output.apply(lambda row: calc_ratio(row[current_setting], row[current_full_max]), axis\u003d1)\n    df_output[current_min_setting] \u003d df_output.apply(lambda row: calc_ratio(row[current_full_min], row[current_setting]), axis\u003d1)\n\n    del df_output[current_full_max]\n    del df_output[current_full_min]\n    del df_output[\"w_full_history_\" + current_setting + \"_avg\"]\n    del df_output[\"w10_cycles_\" + current_setting + \"_min\"]\n    del df_output[\"w10_cycles_\" + current_setting + \"_max\"]"
      ],
      "outputs": []
    },
    {
      "execution_count": 0,
      "cell_type": "code",
      "metadata": {},
      "source": [
        "for i in range(1,22):\n    current_sensor \u003d \"sensor_\" + str(i)\n    current_max_sensor \u003d \"pct_to_max_\" + current_sensor\n    current_min_sensor \u003d \"pct_to_min_\" + current_sensor\n    current_full_sensor_max \u003d \"w_full_history_\" + current_sensor + \"_max\"\n    current_full_sensor_min \u003d \"w_full_history_\" + current_sensor + \"_min\"\n\n    df_output[current_max_sensor] \u003d df_output.apply(lambda row: calc_ratio(row[current_sensor], row[current_full_sensor_max]), axis\u003d1)\n    df_output[current_min_sensor] \u003d df_output.apply(lambda row: calc_ratio(row[current_full_sensor_min], row[current_sensor]), axis\u003d1)\n\n    del df_output[current_full_sensor_max]\n    del df_output[current_full_sensor_min]\n    del df_output[\"w_full_history_\" + current_sensor + \"_avg\"]\n    del df_output[\"w10_cycles_\" + current_sensor + \"_min\"]\n    del df_output[\"w10_cycles_\" + current_sensor + \"_max\"]"
      ],
      "outputs": []
    },
    {
      "execution_count": 0,
      "cell_type": "code",
      "metadata": {},
      "source": [
        "dku_output.write_with_schema(df_output)"
      ],
      "outputs": []
    }
  ]
}